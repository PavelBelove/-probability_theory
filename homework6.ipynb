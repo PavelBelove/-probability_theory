{
 "cells": [
  {
   "cell_type": "markdown",
   "metadata": {},
   "source": [
    "#### 1. Даны значения величины заработной платы заемщиков банка (zp) и значения их поведенческого кредитного скоринга (ks):  \n",
    "zp = [35, 45, 190, 200, 40, 70, 54, 150, 120, 110],  \n",
    "ks = [401, 574, 874, 919, 459, 739, 653, 902, 746, 832].  \n",
    "####  Найдите ковариацию этих двух величин с помощью элементарных действий, а затем с помощью функции cov из numpy. Полученные значения должны быть равны. Найдите коэффициент корреляции Пирсона с помощью ковариации и среднеквадратичных отклонений двух признаков, а затем с использованием функций из библиотек numpy и pandas."
   ]
  },
  {
   "cell_type": "code",
   "execution_count": 7,
   "metadata": {},
   "outputs": [],
   "source": [
    "import numpy as np"
   ]
  },
  {
   "cell_type": "code",
   "execution_count": 8,
   "metadata": {},
   "outputs": [],
   "source": [
    "zp = np.array([35, 45, 190, 200, 40, 70, 54, 150, 120, 110])\n",
    "ks = np.array([401, 574, 874, 919, 459, 739, 653, 902, 746, 832])"
   ]
  },
  {
   "cell_type": "markdown",
   "metadata": {},
   "source": [
    "$$cov(X, Y) =M(XY) - M(X)M(Y)$$"
   ]
  },
  {
   "cell_type": "markdown",
   "metadata": {},
   "source": [
    "$$M(zp \\cdot ks) = \\frac{35 \\cdot 401 + 45 \\cdot 574 + 190 \\cdot 874 + 200 \\cdot 919 + 40 \\cdot 459 + 70 \\cdot 739 + 54 \\cdot 653 + 150 \\cdot 902 + 120 \\cdot 746+ 110 \\cdot 832}{10} = 81141.70$$"
   ]
  },
  {
   "cell_type": "markdown",
   "metadata": {},
   "source": [
    "$$\\overline{zp} = \\frac{35 + 45 + 190 + 200 + 40 + 70 + 54 + 150 + 120 + 110}{10} = 101.40$$"
   ]
  },
  {
   "cell_type": "markdown",
   "metadata": {},
   "source": [
    "$$\\overline{ks} = \\frac{401 + 574 + 874 + 919 + 459 + 739 + 653 + 902 + 746 + 832}{10} = 709.90$$"
   ]
  },
  {
   "cell_type": "markdown",
   "metadata": {},
   "source": [
    "$$cov(zp, ks) = 81141.7 - 101.4 \\cdot 709.9 = 9157.84$$"
   ]
  },
  {
   "cell_type": "code",
   "execution_count": 9,
   "metadata": {},
   "outputs": [
    {
     "name": "stdout",
     "output_type": "stream",
     "text": [
      "9157.84\n"
     ]
    }
   ],
   "source": [
    "print(np.cov(zp, ks, ddof = 0)[0,1])"
   ]
  },
  {
   "cell_type": "markdown",
   "metadata": {},
   "source": [
    "$$r_{XY} = \\frac{cov(X, Y)}{\\sigma_{X} \\cdot \\sigma_{Y}}$$\n",
    "\n",
    "$$\\sigma_{zp} = \\sqrt{\\frac{(35 - 101.40)^2 + (45 - 101.40)^2 + (190 - 101.40)^2 + (200 - 101.40)^2 + (40 - 101.40)^2 + (70 - 101.40)^2 + (54 - 101.40)^2 + (150 - 101.40)^2 + (120 - 101.40)^2 + (110 - 101.40)^2}{10}} = 59.12$$\n",
    "\n",
    "$$\\sigma_{ks} = \\sqrt{\\frac{(401 - 709.90)^2 + (574 - 709.90)^2 + (874 - 709.90)^2 + (919 - 709.90)^2 + (459 - 709.90)^2 + (739 - 709.90)^2 + (653 - 709.90)^2 + (902 - 709.90)^2 + (746 - 709.90)^2 + (832 - 709.90)^2}{10}} = 174.55$$\n",
    "\n",
    "$$r_{zp,ks} = \\frac{9157.84}{59.12 \\cdot 174.55} = 0.89$$"
   ]
  },
  {
   "cell_type": "code",
   "execution_count": 10,
   "metadata": {},
   "outputs": [
    {
     "name": "stdout",
     "output_type": "stream",
     "text": [
      "0.8874900920739159\n"
     ]
    }
   ],
   "source": [
    "print(np.corrcoef(zp, ks)[0, 1])"
   ]
  },
  {
   "cell_type": "markdown",
   "metadata": {},
   "source": [
    "####  2. Измерены значения IQ выборки студентов, обучающихся в местных технических вузах: 131, 125, 115, 122, 131, 115, 107, 99, 125, 111. Известно, что в генеральной совокупности IQ распределен нормально. Найдите доверительный интервал для математического ожидания с надежностью 0.95."
   ]
  },
  {
   "cell_type": "markdown",
   "metadata": {},
   "source": [
    "$$\\left(\\overline{x} - t_{\\frac{a}{2}} \\cdot \\frac{S}{\\sqrt{n}} , \\overline{x} + t_{\\frac{a}{2}} \\cdot \\frac{S}{\\sqrt{n}}\\right)$$"
   ]
  },
  {
   "cell_type": "markdown",
   "metadata": {},
   "source": [
    "$$\\overline{X} = \\frac{131 + 125 + 115 + 122 + 131 + 115 + 107 + 99 + 125 + 111}{10} = 118.1$$\n",
    "$$S = \\sqrt{\\frac{\\displaystyle\\sum_{i=1}^{n} (x_i - \\overline{x})}{n-1}}$$"
   ]
  },
  {
   "cell_type": "markdown",
   "metadata": {},
   "source": [
    "$$S = \\sqrt{\\frac{(131- 118.1)^2 + (125- 118.1)^2 + (115- 118.1)^2 + (122- 118.1)^2 + (131- 118.1)^2 + (115- 118.1)^2 + (107- 118.1)^2 + (99- 118.1)^2 + (125- 118.1)^2 + (111 - 118.1)^2 }{10 - 1}} = 10.55$$"
   ]
  },
  {
   "cell_type": "markdown",
   "metadata": {},
   "source": [
    "$$\\left(118.1 - 2.262 \\cdot \\frac{10.55}{\\sqrt{10}}, 118.1 + 2.262 \\cdot \\frac{10.55}{\\sqrt{10}}\\right)$$"
   ]
  },
  {
   "cell_type": "markdown",
   "metadata": {},
   "source": [
    "$$(110.55, 125.65)$$"
   ]
  },
  {
   "cell_type": "code",
   "execution_count": 11,
   "metadata": {},
   "outputs": [
    {
     "data": {
      "text/plain": [
       "(110.55608365158724, 125.64391634841274)"
      ]
     },
     "execution_count": 11,
     "metadata": {},
     "output_type": "execute_result"
    }
   ],
   "source": [
    "from scipy.stats import t\n",
    "from scipy.stats import sem\n",
    "\n",
    "iq = [131, 125, 115, 122, 131, 115, 107, 99, 125, 111]\n",
    "\n",
    "t.interval(0.95, len(iq) - 1, loc=np.mean(iq), scale=sem(iq))"
   ]
  },
  {
   "cell_type": "markdown",
   "metadata": {},
   "source": [
    "#### 3. Известно, что рост футболистов в сборной распределен нормально с дисперсией генеральной совокупности, равной 25 кв.см. Объем выборки равен 27, среднее выборочное составляет 174.2. Найдите доверительный интервал для математического ожидания с надежностью 0.95."
   ]
  },
  {
   "cell_type": "markdown",
   "metadata": {},
   "source": [
    "$$\\left(\\overline{x} - Z_{\\frac{a}{2}} \\cdot \\frac{\\sigma}{\\sqrt{n}} , \\overline{x} + Z_{\\frac{a}{2}} \\cdot \\frac{\\sigma}{\\sqrt{n}}\\right)$$"
   ]
  },
  {
   "cell_type": "markdown",
   "metadata": {},
   "source": [
    "$$\\left(174.2 - 1.96 \\cdot \\frac{\\sqrt{25}}{\\sqrt{27}} ,174.2 + 1.96 \\cdot \\frac{\\sqrt{25}}{\\sqrt{27}}\\right)$$"
   ]
  },
  {
   "cell_type": "markdown",
   "metadata": {},
   "source": [
    "$$\\left(172.3, 176.1\\right)$$"
   ]
  },
  {
   "cell_type": "code",
   "execution_count": 12,
   "metadata": {},
   "outputs": [
    {
     "data": {
      "text/plain": [
       "(172.3140237765397, 176.08597622346028)"
      ]
     },
     "execution_count": 12,
     "metadata": {},
     "output_type": "execute_result"
    }
   ],
   "source": [
    "from scipy.stats import norm\n",
    "\n",
    "se= 25**0.5 / 27**0.5 \n",
    "norm.interval(0.95, loc=174.2, scale=se)"
   ]
  }
 ],
 "metadata": {
  "kernelspec": {
   "display_name": "Python 3",
   "language": "python",
   "name": "python3"
  },
  "language_info": {
   "codemirror_mode": {
    "name": "ipython",
    "version": 3
   },
   "file_extension": ".py",
   "mimetype": "text/x-python",
   "name": "python",
   "nbconvert_exporter": "python",
   "pygments_lexer": "ipython3",
   "version": "3.7.3"
  }
 },
 "nbformat": 4,
 "nbformat_minor": 4
}
