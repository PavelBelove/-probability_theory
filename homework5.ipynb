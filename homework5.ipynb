{
 "cells": [
  {
   "cell_type": "code",
   "execution_count": 12,
   "metadata": {},
   "outputs": [],
   "source": [
    "import numpy as np"
   ]
  },
  {
   "cell_type": "markdown",
   "metadata": {},
   "source": [
    "#### 1. Известно, что генеральная совокупность распределена нормально со средним квадратическим отклонением, равным 16. Найти доверительный интервал для оценки математического ожидания a с надежностью 0.95, если выборочная средняя M = 80, а объем выборки n = 256."
   ]
  },
  {
   "cell_type": "markdown",
   "metadata": {},
   "source": [
    "$$\\sigma=16,  \\alpha=0.05,   \\overline{x} = 80,   n = 256$$\n",
    "$$\\left(\\overline{x} - Z_{\\frac{a}{2}} \\cdot \\frac{\\sigma}{\\sqrt{n}} , \\overline{x} + Z_{\\frac{a}{2}} \\cdot \\frac{\\sigma}{\\sqrt{n}}\\right)$$\n",
    "$$\\left(80 - 1.96 \\cdot \\frac{16}{\\sqrt{256}} ,80 + 1.96 \\cdot \\frac{16}{\\sqrt{256}}\\right)$$\n",
    "$$\\left(78.04, 81.96\\right)$$"
   ]
  },
  {
   "cell_type": "code",
   "execution_count": 13,
   "metadata": {},
   "outputs": [
    {
     "data": {
      "text/plain": [
       "(78.04, 81.96)"
      ]
     },
     "execution_count": 13,
     "metadata": {},
     "output_type": "execute_result"
    }
   ],
   "source": [
    "x = 80\n",
    "z = 1.96 # alpha / 2 = 0.025\n",
    "sigma = 16\n",
    "n = 256\n",
    "\n",
    "min = x - z * sigma / (n**0.5)\n",
    "max = x + z * sigma / (n**0.5)\n",
    "\n",
    "min, max"
   ]
  },
  {
   "cell_type": "markdown",
   "metadata": {},
   "source": [
    "#### 2. В результате 10 независимых измерений некоторой величины X, выполненных с одинаковой точностью, получены опытные данные: 6.9, 6.1, 6.2, 6.8, 7.5, 6.3, 6.4, 6.9, 6.7, 6.1 Предполагая, что результаты измерений подчинены нормальному закону распределения вероятностей, оценить истинное значение величины X при помощи доверительного интервала, покрывающего это значение с доверительной вероятностью 0,95."
   ]
  },
  {
   "cell_type": "markdown",
   "metadata": {},
   "source": [
    "$$\\left(\\overline{x} - t_{\\frac{a}{2}} \\cdot \\frac{S}{\\sqrt{n}} , \\overline{x} + t_{\\frac{a}{2}} \\cdot \\frac{S}{\\sqrt{n}}\\right)$$\n",
    "$$\\overline{X} = \\frac{6.9 + 6.1 + 6.2 + 6.8 + 7.5 + 6.3 + 6.4 + 6.9 + 6.7 + 6.1}{10} = 6.59$$\n",
    "$$S = \\sqrt{\\frac{\\displaystyle\\sum_{i=1}^{n} (x_i - \\overline{x})}{n-1}}$$\n",
    "$$S = \\sqrt{\\frac{(6.9 - 6.59)^2 + (6.1 - 6.59)^2 + (6.2 - 6.59)^2 + (6.8 - 6.59)^2 + (7.5 - 6.59)^2 + (6.3 - 6.59)^2 + (6.4 - 6.59)^2 + (6.9 - 6.59)^2 + (6.7 - 6.59)^2 + (6.1 - 6.59)^2}{10 - 1}} = 0.451$$\n",
    "$$\\left(6.59 - 2.262 \\cdot \\frac{0.451}{\\sqrt{10}}, 6.59 + 2.262 \\cdot \\frac{0.451}{\\sqrt{10}}\\right)$$\n",
    "$$(6.27, 6.91)$$"
   ]
  },
  {
   "cell_type": "code",
   "execution_count": 14,
   "metadata": {},
   "outputs": [
    {
     "data": {
      "text/plain": [
       "(6.267538255912426, 6.912461744087575)"
      ]
     },
     "execution_count": 14,
     "metadata": {},
     "output_type": "execute_result"
    }
   ],
   "source": [
    "X = [6.9, 6.1, 6.2, 6.8, 7.5, 6.3, 6.4, 6.9, 6.7, 6.1]\n",
    "k = 2.262 # t_0.025,9 \n",
    "M = np.mean(X)\n",
    "sigma = np.std(X, ddof=1)\n",
    "\n",
    "min = M - k * sigma / (len(X)**0.5) \n",
    "max = M + k * sigma / (len(X)**0.5) \n",
    "\n",
    "min, max"
   ]
  },
  {
   "cell_type": "markdown",
   "metadata": {},
   "source": [
    "#### 3. Утверждается, что шарики для подшипников, изготовленные автоматическим станком, имеют средний диаметр 17 мм.  Используя односторонний критерий с $\\alpha=0,05$, проверить эту гипотезу, если в выборке из n=100 шариков средний диаметр оказался равным 17.5 мм, а дисперсия известна и равна 4 кв. мм."
   ]
  },
  {
   "cell_type": "markdown",
   "metadata": {},
   "source": [
    "$$H_0 \\quad \\mu = \\mu_0$$ \n",
    "$$H_1 \\quad \\mu > \\mu_0$$ \n",
    "$$Z_H = \\frac{\\overline{X} - \\mu_0}{\\sigma} \\cdot \\sqrt{n}$$\n",
    "$$\\alpha = 0.05$$ \n",
    "$$Z_H = \\frac{17.5 - 17}{2} \\cdot \\sqrt{100} = 2.5$$\n",
    "$$Z = 1.654$$\n",
    "$$Z_H > Z \\quad \\text{верна гипотеза }H_1 \\text{ на уровне значимости } \\alpha = 0.05 $$"
   ]
  },
  {
   "cell_type": "markdown",
   "metadata": {},
   "source": [
    "#### 4. Продавец утверждает, что средний вес пачки печенья составляет 200 г.  Из партии извлечена выборка из 10 пачек. Вес каждой пачки составляет: 202, 203, 199, 197, 195, 201, 200, 204, 194, 190.  Известно, что их веса распределены нормально.  Верно ли утверждение продавца, если учитывать, что доверительная вероятность равна 99%?"
   ]
  },
  {
   "cell_type": "markdown",
   "metadata": {},
   "source": [
    "$$\\mu = \\frac{202 + 203 + 199 + 197 + 195 + 201 + 200 + 204 + 194 + 190}{10} = 198.5$$\n",
    "$$S = \\sqrt{ \\frac{(202 - 198.5)^2 + (203 - 198.5)^2 + (199 - 198.5)^2 + (197 - 198.5)^2 + (195 - 198.5)^2 + (201 - 198.5)^2 + (200 - 198.5)^2 + (204 - 198.5)^2 + (194 - 198.5)^2 + (190 - 198.5)^2}{10-1} } = 4.45346$$\n",
    "$$H_0 \\quad \\mu = \\mu_0$$ \n",
    "$$H_1 \\quad \\mu \\neq \\mu_0$$ \n",
    "$$\\alpha = 0.01$$\n",
    "$$T_H = \\frac{198.5 - 200}{4.45346} \\cdot \\sqrt{10} = −1.065$$\n",
    "\n",
    "$$T = \\pm 3.250 $$\n",
    "\n",
    "$$-3.250 < T_H < 3.250 \\quad \\text{верна гипотеза }H_0$$"
   ]
  },
  {
   "cell_type": "code",
   "execution_count": 15,
   "metadata": {},
   "outputs": [
    {
     "data": {
      "text/plain": [
       "198.5"
      ]
     },
     "execution_count": 15,
     "metadata": {},
     "output_type": "execute_result"
    }
   ],
   "source": [
    "X = [202, 203, 199, 197, 195, 201, 200, 204, 194, 190]\n",
    "M1 = np.mean(X)\n",
    "M1"
   ]
  },
  {
   "cell_type": "code",
   "execution_count": 16,
   "metadata": {},
   "outputs": [
    {
     "data": {
      "text/plain": [
       "4.453463071962462"
      ]
     },
     "execution_count": 16,
     "metadata": {},
     "output_type": "execute_result"
    }
   ],
   "source": [
    "M0 = 200 \n",
    "n = len(X)\n",
    "alpha = (1 - 0.99) / 2 # Отклонение возможно в обе стороны \n",
    "sigma = np.std(X, ddof=1)\n",
    "sigma\n"
   ]
  },
  {
   "cell_type": "code",
   "execution_count": 18,
   "metadata": {},
   "outputs": [
    {
     "data": {
      "text/plain": [
       "-1.0651074037450896"
      ]
     },
     "execution_count": 18,
     "metadata": {},
     "output_type": "execute_result"
    }
   ],
   "source": [
    "T_H = (M1 - M0) * n**0.5 / sigma \n",
    "T_H\n"
   ]
  },
  {
   "cell_type": "code",
   "execution_count": 19,
   "metadata": {},
   "outputs": [
    {
     "data": {
      "text/plain": [
       "True"
      ]
     },
     "execution_count": 19,
     "metadata": {},
     "output_type": "execute_result"
    }
   ],
   "source": [
    "# Возьмем критерий Стьюдента для вероятности alpha/2 = 0.005 n-1 = 9\n",
    "T = 3.25\n",
    "-T < T_H < T # Верна ли Н0 гипотеза?"
   ]
  }
 ],
 "metadata": {
  "kernelspec": {
   "display_name": "Python 3",
   "language": "python",
   "name": "python3"
  },
  "language_info": {
   "codemirror_mode": {
    "name": "ipython",
    "version": 3
   },
   "file_extension": ".py",
   "mimetype": "text/x-python",
   "name": "python",
   "nbconvert_exporter": "python",
   "pygments_lexer": "ipython3",
   "version": "3.7.3"
  }
 },
 "nbformat": 4,
 "nbformat_minor": 2
}
